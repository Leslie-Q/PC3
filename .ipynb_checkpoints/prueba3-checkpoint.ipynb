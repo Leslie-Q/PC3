{
 "cells": [
  {
   "cell_type": "code",
   "execution_count": 1,
   "id": "0cdea642",
   "metadata": {},
   "outputs": [
    {
     "name": "stdout",
     "output_type": "stream",
     "text": [
      "Factorial of 5 is 120\n"
     ]
    }
   ],
   "source": [
    "# Función para obtener el factorial de un número entero positivo.\n",
    "def factorial(num): \n",
    "    if num < 0: \n",
    "        print(\"Factorial of negative num does not exist\")\n",
    "\n",
    "    elif num == 0: \n",
    "        return 1\n",
    "        \n",
    "    else: \n",
    "        fact = 1\n",
    "        while(num > 1): \n",
    "            fact *= num \n",
    "            num -= 1\n",
    "        return fact \n",
    "\n",
    "num = 5; \n",
    "\n",
    "print(\"Factorial of\",num,\"is\", factorial(num))"
   ]
  },
  {
   "cell_type": "code",
   "execution_count": 2,
   "id": "d3cadc73",
   "metadata": {},
   "outputs": [],
   "source": [
    "# Agregando otra funcion \n",
    "\n",
    "def factorial_otro(n):\n",
    "    \"\"\" Precondición: n entero >=0\n",
    "        Devuelve: n! \"\"\"\n",
    "    if n == 0:\n",
    "        return 1\n",
    "\n",
    "    return n * factorial(n-1)"
   ]
  },
  {
   "cell_type": "code",
   "execution_count": 3,
   "id": "9e006942",
   "metadata": {},
   "outputs": [
    {
     "data": {
      "text/plain": [
       "6"
      ]
     },
     "execution_count": 3,
     "metadata": {},
     "output_type": "execute_result"
    }
   ],
   "source": [
    "factorial_otro(3)"
   ]
  },
  {
   "cell_type": "code",
   "execution_count": null,
   "id": "a3b83d2d",
   "metadata": {},
   "outputs": [],
   "source": []
  }
 ],
 "metadata": {
  "kernelspec": {
   "display_name": "Python 3 (ipykernel)",
   "language": "python",
   "name": "python3"
  },
  "language_info": {
   "codemirror_mode": {
    "name": "ipython",
    "version": 3
   },
   "file_extension": ".py",
   "mimetype": "text/x-python",
   "name": "python",
   "nbconvert_exporter": "python",
   "pygments_lexer": "ipython3",
   "version": "3.9.12"
  }
 },
 "nbformat": 4,
 "nbformat_minor": 5
}
